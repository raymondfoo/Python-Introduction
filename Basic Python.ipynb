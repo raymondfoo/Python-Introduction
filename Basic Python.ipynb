{
 "cells": [
  {
   "cell_type": "markdown",
   "metadata": {},
   "source": [
    "## 1. Printing"
   ]
  },
  {
   "cell_type": "code",
   "execution_count": 1,
   "metadata": {},
   "outputs": [
    {
     "name": "stdout",
     "output_type": "stream",
     "text": [
      "Hello World\n"
     ]
    }
   ],
   "source": [
    "print('Hello World')"
   ]
  },
  {
   "cell_type": "code",
   "execution_count": 2,
   "metadata": {},
   "outputs": [],
   "source": [
    "#print('Hello World')"
   ]
  },
  {
   "cell_type": "markdown",
   "metadata": {},
   "source": [
    "## 2. Boolean"
   ]
  },
  {
   "cell_type": "code",
   "execution_count": 3,
   "metadata": {},
   "outputs": [
    {
     "name": "stdout",
     "output_type": "stream",
     "text": [
      "True\n",
      "False\n",
      "<class 'bool'>\n"
     ]
    }
   ],
   "source": [
    "have_lunch = True\n",
    "drink_coffee = False\n",
    "\n",
    "print(have_lunch)\n",
    "print(drink_coffee)\n",
    "print(type(have_lunch))"
   ]
  },
  {
   "cell_type": "markdown",
   "metadata": {},
   "source": [
    "<div>\n",
    "   <img=src=\"https://images.pexels.com/photos/4554249/pexels-photo-4554249.jpeg?auto=compress&cs=tinysrgb&dpr=2&w=500\" width=\"500\">\n",
    "</div>\n",
    "Conceptually what is a variable?"
   ]
  },
  {
   "cell_type": "markdown",
   "metadata": {},
   "source": [
    "### 2.1 Boolean logical  operators"
   ]
  },
  {
   "cell_type": "code",
   "execution_count": 4,
   "metadata": {},
   "outputs": [
    {
     "name": "stdout",
     "output_type": "stream",
     "text": [
      "False\n",
      "False\n",
      "True\n",
      "True\n"
     ]
    }
   ],
   "source": [
    "print(not have_lunch)\n",
    "print(have_lunch and drink_coffee)\n",
    "print(have_lunch or drink_coffee)\n",
    "print(have_lunch and not drink_coffee)"
   ]
  },
  {
   "cell_type": "markdown",
   "metadata": {},
   "source": [
    "## 3. Integer"
   ]
  },
  {
   "cell_type": "code",
   "execution_count": 5,
   "metadata": {},
   "outputs": [],
   "source": [
    "two_holder, three_holder = 2, 3"
   ]
  },
  {
   "cell_type": "markdown",
   "metadata": {},
   "source": [
    "### 3.3 Number comparison"
   ]
  },
  {
   "cell_type": "code",
   "execution_count": 6,
   "metadata": {},
   "outputs": [
    {
     "name": "stdout",
     "output_type": "stream",
     "text": [
      "True\n",
      "False\n",
      "True\n"
     ]
    }
   ],
   "source": [
    "print(two_holder==2)\n",
    "print(two_holder<1)\n",
    "print(two_holder>=1)"
   ]
  },
  {
   "cell_type": "markdown",
   "metadata": {},
   "source": [
    "### 3.2 Number operators"
   ]
  },
  {
   "cell_type": "code",
   "execution_count": 7,
   "metadata": {},
   "outputs": [
    {
     "name": "stdout",
     "output_type": "stream",
     "text": [
      "5\n",
      "-1\n",
      "6\n",
      "8\n",
      "0.6666666666666666\n",
      "2\n",
      "1\n"
     ]
    }
   ],
   "source": [
    "print(two_holder + three_holder)\n",
    "print(two_holder - three_holder)\n",
    "print(two_holder * three_holder)\n",
    "print(two_holder ** three_holder)\n",
    "print(two_holder / three_holder)\n",
    "print(two_holder % three_holder)\n",
    "print(three_holder % two_holder)"
   ]
  },
  {
   "cell_type": "code",
   "execution_count": 8,
   "metadata": {},
   "outputs": [
    {
     "name": "stdout",
     "output_type": "stream",
     "text": [
      "5\n"
     ]
    }
   ],
   "source": [
    "five_holder = two_holder + three_holder\n",
    "print(five_holder)"
   ]
  },
  {
   "cell_type": "code",
   "execution_count": 9,
   "metadata": {},
   "outputs": [
    {
     "name": "stdout",
     "output_type": "stream",
     "text": [
      "6\n"
     ]
    }
   ],
   "source": [
    "two_holder = two_holder + 4\n",
    "print(two_holder)"
   ]
  },
  {
   "cell_type": "markdown",
   "metadata": {},
   "source": [
    "Is \"two holder\" a suitable name to label the variable since it is not always holding 2?"
   ]
  },
  {
   "cell_type": "code",
   "execution_count": 10,
   "metadata": {},
   "outputs": [
    {
     "name": "stdout",
     "output_type": "stream",
     "text": [
      "9\n",
      "18\n",
      "324\n",
      "4\n",
      "-96\n"
     ]
    }
   ],
   "source": [
    "two_holder += 3\n",
    "print(two_holder)\n",
    "\n",
    "two_holder *= 2\n",
    "print(two_holder)\n",
    "\n",
    "two_holder **= 2\n",
    "print(two_holder)\n",
    "\n",
    "two_holder %= 5\n",
    "print(two_holder)\n",
    "\n",
    "two_holder -= 100\n",
    "print(two_holder)"
   ]
  },
  {
   "cell_type": "markdown",
   "metadata": {},
   "source": [
    "## 4. List"
   ]
  },
  {
   "cell_type": "code",
   "execution_count": 11,
   "metadata": {},
   "outputs": [
    {
     "name": "stdout",
     "output_type": "stream",
     "text": [
      "[]\n",
      "[2, 4, 99, 5, 3, 7, 3]\n",
      "7\n",
      "<class 'list'>\n"
     ]
    }
   ],
   "source": [
    "list_1 = []\n",
    "list_2 = [ 2, 4, 99, 5, 3, 7, 3 ]\n",
    "\n",
    "print(list_1)\n",
    "print(list_2)\n",
    "print(len(list_2))\n",
    "print(type(list_2))"
   ]
  },
  {
   "cell_type": "markdown",
   "metadata": {},
   "source": [
    "<div>\n",
    "   <img=src=\"https://images.pexels.com/photos/1226398/pexels-photo-1226398.jpeg?auto=compress&cs=tinysrgb&dpr=2&w=500\" width=\"500\">\n",
    "</div>\n",
    "\n",
    "Conceptually what is a list?"
   ]
  },
  {
   "cell_type": "markdown",
   "metadata": {},
   "source": [
    "### 4.1 Accessing elements of a list"
   ]
  },
  {
   "cell_type": "code",
   "execution_count": 12,
   "metadata": {},
   "outputs": [
    {
     "name": "stdout",
     "output_type": "stream",
     "text": [
      "[2, 4, 99, 5, 3, 7, 3]\n",
      "2\n",
      "[4, 99, 5]\n",
      "[]\n"
     ]
    }
   ],
   "source": [
    "print(list_2)\n",
    "\n",
    "print(list_2[0])        #Python list index starts with 0\n",
    "print(list_2[1:4])\n",
    "print(list_2[6:0])"
   ]
  },
  {
   "cell_type": "code",
   "execution_count": 13,
   "metadata": {},
   "outputs": [
    {
     "name": "stdout",
     "output_type": "stream",
     "text": [
      "[2, 4, 99, 5, 3]\n",
      "[2, 4, 99, 5, 3]\n"
     ]
    }
   ],
   "source": [
    "print(list_2[0:5])\n",
    "print(list_2[:5])"
   ]
  },
  {
   "cell_type": "code",
   "execution_count": 14,
   "metadata": {},
   "outputs": [
    {
     "name": "stdout",
     "output_type": "stream",
     "text": [
      "[5, 3, 7, 3]\n",
      "[5, 3, 7, 3]\n"
     ]
    }
   ],
   "source": [
    "print(list_2[3:7])\n",
    "print(list_2[3:])"
   ]
  },
  {
   "cell_type": "code",
   "execution_count": 15,
   "metadata": {},
   "outputs": [
    {
     "name": "stdout",
     "output_type": "stream",
     "text": [
      "[2, 4, 99, 5, 3, 7, 3]\n",
      "[5, 3]\n"
     ]
    }
   ],
   "source": [
    "print(list_2)\n",
    "print(list_2[-4:-2])"
   ]
  },
  {
   "cell_type": "markdown",
   "metadata": {},
   "source": [
    "### 4.2 Adding elements to a list"
   ]
  },
  {
   "cell_type": "code",
   "execution_count": 16,
   "metadata": {},
   "outputs": [
    {
     "name": "stdout",
     "output_type": "stream",
     "text": [
      "[333, 444, 555]\n",
      "[2, 4, 99, 5, 3, 7, 3, 3, 3]\n"
     ]
    }
   ],
   "source": [
    "list_1.append(333)\n",
    "list_1.extend([444, 555])\n",
    "list_2.append(3)\n",
    "list_2.append(3)\n",
    "\n",
    "print(list_1)\n",
    "print(list_2)"
   ]
  },
  {
   "cell_type": "code",
   "execution_count": 17,
   "metadata": {},
   "outputs": [
    {
     "name": "stdout",
     "output_type": "stream",
     "text": [
      "[2, 4, 99, 5, 3, 7, 3, 3, 3, True]\n"
     ]
    }
   ],
   "source": [
    "list_2.append(True)\n",
    "print(list_2)"
   ]
  },
  {
   "cell_type": "code",
   "execution_count": 18,
   "metadata": {},
   "outputs": [
    {
     "name": "stdout",
     "output_type": "stream",
     "text": [
      "[333, 444, 555]\n",
      "[2, 4, 99, 5, 3, 7, 3, 3, 3, True]\n",
      "[333, 444, 555, 2, 4, 99, 5, 3, 7, 3, 3, 3, True]\n",
      "[[333, 444, 555], [2, 4, 99, 5, 3, 7, 3, 3, 3, True]]\n"
     ]
    }
   ],
   "source": [
    "print(list_1)\n",
    "print(list_2)\n",
    "print(list_1 + list_2)\n",
    "\n",
    "print([list_1, list_2]) #wrong way"
   ]
  },
  {
   "cell_type": "markdown",
   "metadata": {},
   "source": [
    "### 4.3 Removing elements from a list"
   ]
  },
  {
   "cell_type": "code",
   "execution_count": 19,
   "metadata": {},
   "outputs": [
    {
     "name": "stdout",
     "output_type": "stream",
     "text": [
      "[2, 4, 99, 5, 3, 7, 3, 3, 3, True]\n",
      "[2, 4, 99, 5, 7, 3, 3, 3, True]\n"
     ]
    }
   ],
   "source": [
    "print(list_2)\n",
    "\n",
    "list_2.remove(3)\n",
    "\n",
    "print(list_2)"
   ]
  },
  {
   "cell_type": "markdown",
   "metadata": {},
   "source": [
    "### 4.3 Checking if element exists in a list"
   ]
  },
  {
   "cell_type": "code",
   "execution_count": 20,
   "metadata": {
    "scrolled": true
   },
   "outputs": [
    {
     "name": "stdout",
     "output_type": "stream",
     "text": [
      "False\n",
      "True\n"
     ]
    }
   ],
   "source": [
    "print(3 in list_1)\n",
    "print(3 in list_2)"
   ]
  },
  {
   "cell_type": "markdown",
   "metadata": {},
   "source": [
    "## 5. String"
   ]
  },
  {
   "cell_type": "code",
   "execution_count": 21,
   "metadata": {},
   "outputs": [
    {
     "name": "stdout",
     "output_type": "stream",
     "text": [
      "<class 'str'>\n"
     ]
    }
   ],
   "source": [
    "title = 'Hello PanU'\n",
    "\n",
    "print(type(title))"
   ]
  },
  {
   "cell_type": "markdown",
   "metadata": {},
   "source": [
    "<div>\n",
    "   <img=src=\"https://images.pexels.com/photos/591652/play-fun-blocks-block-591652.jpeg?auto=compress&cs=tinysrgb&dpr=2&w=500\" width=\"500\">\n",
    "</div>\n",
    "\n",
    "Conceptually what is a string?"
   ]
  },
  {
   "cell_type": "markdown",
   "metadata": {},
   "source": [
    "### 5.1 String as a list"
   ]
  },
  {
   "cell_type": "code",
   "execution_count": 22,
   "metadata": {},
   "outputs": [
    {
     "name": "stdout",
     "output_type": "stream",
     "text": [
      "H\n",
      "ell\n",
      "\n",
      "Hello\n",
      "Pa\n"
     ]
    }
   ],
   "source": [
    "print(title[0])\n",
    "print(title[1:4])\n",
    "print(title[6:0])\n",
    "print(title[:5])\n",
    "print(title[-4:-2])"
   ]
  },
  {
   "cell_type": "markdown",
   "metadata": {},
   "source": [
    "### 5.2 Finding"
   ]
  },
  {
   "cell_type": "code",
   "execution_count": 23,
   "metadata": {},
   "outputs": [
    {
     "name": "stdout",
     "output_type": "stream",
     "text": [
      "1\n",
      "2\n",
      "-1\n",
      "-1\n",
      "23\n"
     ]
    }
   ],
   "source": [
    "sentence = \"Hello PanU.' + ' How Are You Today?\"\n",
    "\n",
    "print(sentence.find('e'))\n",
    "print(sentence.find('llo'))\n",
    "print(sentence.find('b'))\n",
    "print(sentence.find('e', 3, 20))\n",
    "print(sentence.rfind('e'))"
   ]
  },
  {
   "cell_type": "code",
   "execution_count": 24,
   "metadata": {
    "scrolled": true
   },
   "outputs": [
    {
     "name": "stdout",
     "output_type": "stream",
     "text": [
      "Hello PanU.' + ' How Are You Today?\n",
      "['Hello', \"PanU.'\", '+', \"'\", 'How', 'Are', 'You', 'Today?']\n",
      "Hello#PanU.'#+#'#How#Are#You#Today?\n"
     ]
    }
   ],
   "source": [
    "split_result = sentence.split()\n",
    "new_sentence = '#'.join(split_result)\n",
    "\n",
    "print(sentence)\n",
    "print(split_result)\n",
    "print(new_sentence)"
   ]
  },
  {
   "cell_type": "markdown",
   "metadata": {},
   "source": [
    "## 6. If-Else condition"
   ]
  },
  {
   "cell_type": "code",
   "execution_count": 25,
   "metadata": {},
   "outputs": [
    {
     "name": "stdout",
     "output_type": "stream",
     "text": [
      "Not less than 50.\n",
      "4.5\n"
     ]
    }
   ],
   "source": [
    "qty = 100\n",
    "price_per_unit = 0.0\n",
    "\n",
    "if qty < 50:\n",
    "    price_per_unit = 5.0\n",
    "    print('Less than 50.')\n",
    "else:\n",
    "    price_per_unit = 4.5\n",
    "    print('Not less than 50.')\n",
    "\n",
    "print(price_per_unit)"
   ]
  },
  {
   "cell_type": "code",
   "execution_count": 26,
   "metadata": {},
   "outputs": [
    {
     "name": "stdout",
     "output_type": "stream",
     "text": [
      "4\n"
     ]
    }
   ],
   "source": [
    "if qty < 50:\n",
    "    price_per_unit = 5.0\n",
    "elif qty < 75:\n",
    "    price_per_unit = 4.5\n",
    "else:\n",
    "    price_per_unit = 4\n",
    "\n",
    "print(price_per_unit)"
   ]
  },
  {
   "cell_type": "markdown",
   "metadata": {},
   "source": [
    "## 7. For Loop"
   ]
  },
  {
   "cell_type": "code",
   "execution_count": 27,
   "metadata": {},
   "outputs": [
    {
     "name": "stdout",
     "output_type": "stream",
     "text": [
      "H\n",
      "e\n",
      "l\n",
      "l\n",
      "o\n",
      " \n",
      "P\n",
      "a\n",
      "n\n",
      "U\n"
     ]
    }
   ],
   "source": [
    "sentence = \"Hello PanU\"\n",
    "for char in sentence:\n",
    "    print(char)"
   ]
  },
  {
   "cell_type": "markdown",
   "metadata": {},
   "source": [
    "What is the variable \"char\"?"
   ]
  },
  {
   "cell_type": "code",
   "execution_count": 28,
   "metadata": {},
   "outputs": [
    {
     "name": "stdout",
     "output_type": "stream",
     "text": [
      "1\n",
      "2\n",
      "3\n",
      "4\n",
      "5\n",
      "6\n",
      "7\n",
      "8\n",
      "9\n"
     ]
    }
   ],
   "source": [
    "for number in range(1, 10):\n",
    "    print(number)"
   ]
  },
  {
   "cell_type": "code",
   "execution_count": 29,
   "metadata": {},
   "outputs": [
    {
     "name": "stdout",
     "output_type": "stream",
     "text": [
      "1\n",
      "3\n",
      "5\n",
      "7\n",
      "9\n"
     ]
    }
   ],
   "source": [
    "for number in range(1, 10, 2):\n",
    "    print(number)"
   ]
  },
  {
   "cell_type": "code",
   "execution_count": 30,
   "metadata": {},
   "outputs": [
    {
     "name": "stdout",
     "output_type": "stream",
     "text": [
      "1\n",
      "2\n",
      "3\n",
      "4\n"
     ]
    }
   ],
   "source": [
    "for number in range(1, 10):\n",
    "    if number == 5:\n",
    "        break\n",
    "    print(number)"
   ]
  },
  {
   "cell_type": "code",
   "execution_count": 31,
   "metadata": {},
   "outputs": [
    {
     "name": "stdout",
     "output_type": "stream",
     "text": [
      "1\n",
      "2\n",
      "3\n",
      "4\n",
      "6\n",
      "7\n",
      "8\n",
      "9\n"
     ]
    }
   ],
   "source": [
    "for number in range(1, 10):\n",
    "    if number == 5:\n",
    "        continue\n",
    "    print(number)"
   ]
  },
  {
   "cell_type": "markdown",
   "metadata": {},
   "source": [
    "### 7.1 Using for loop to search"
   ]
  },
  {
   "cell_type": "code",
   "execution_count": 32,
   "metadata": {},
   "outputs": [],
   "source": [
    "list_of_numbers = [ 10, 1, 3, 4, 1000, 82 ]\n",
    "number_to_find = 4"
   ]
  },
  {
   "cell_type": "code",
   "execution_count": 33,
   "metadata": {},
   "outputs": [
    {
     "name": "stdout",
     "output_type": "stream",
     "text": [
      "True\n"
     ]
    }
   ],
   "source": [
    "found = False\n",
    "for number in list_of_numbers:\n",
    "    if number == number_to_find:\n",
    "        found = True\n",
    "        break\n",
    "\n",
    "        \n",
    "print(found)"
   ]
  },
  {
   "cell_type": "code",
   "execution_count": 34,
   "metadata": {},
   "outputs": [
    {
     "name": "stdout",
     "output_type": "stream",
     "text": [
      "True\n"
     ]
    }
   ],
   "source": [
    "print(number_to_find in range(1, 19)) #More concise way"
   ]
  },
  {
   "cell_type": "markdown",
   "metadata": {},
   "source": [
    "### 7.2 Using for loop to filter"
   ]
  },
  {
   "cell_type": "code",
   "execution_count": 35,
   "metadata": {},
   "outputs": [],
   "source": [
    "list_of_numbers = [ 10, 1, 3, 4, 1000, 82 ]"
   ]
  },
  {
   "cell_type": "code",
   "execution_count": 36,
   "metadata": {},
   "outputs": [
    {
     "name": "stdout",
     "output_type": "stream",
     "text": [
      "[10, 4, 1000, 82]\n"
     ]
    }
   ],
   "source": [
    "even_numbers = []\n",
    "for number in list_of_numbers:\n",
    "    if number % 2 == 0:\n",
    "        even_numbers.append(number)\n",
    "        \n",
    "print(even_numbers)"
   ]
  },
  {
   "cell_type": "code",
   "execution_count": 37,
   "metadata": {},
   "outputs": [
    {
     "name": "stdout",
     "output_type": "stream",
     "text": [
      "[10, 4, 1000, 82]\n"
     ]
    }
   ],
   "source": [
    "print([number for number in list_of_numbers if number % 2 == 0])"
   ]
  }
 ],
 "metadata": {
  "kernelspec": {
   "display_name": "Python 3",
   "language": "python",
   "name": "python3"
  },
  "language_info": {
   "codemirror_mode": {
    "name": "ipython",
    "version": 3
   },
   "file_extension": ".py",
   "mimetype": "text/x-python",
   "name": "python",
   "nbconvert_exporter": "python",
   "pygments_lexer": "ipython3",
   "version": "3.8.5"
  }
 },
 "nbformat": 4,
 "nbformat_minor": 4
}
