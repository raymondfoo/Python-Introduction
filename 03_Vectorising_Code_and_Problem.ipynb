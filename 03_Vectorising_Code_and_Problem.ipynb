{
 "cells": [
  {
   "cell_type": "code",
   "execution_count": 1,
   "metadata": {},
   "outputs": [],
   "source": [
    "import random\n",
    "import timeit\n",
    "import numpy as np\n",
    "from random import randrange"
   ]
  },
  {
   "cell_type": "markdown",
   "metadata": {},
   "source": [
    "## Numpy functions"
   ]
  },
  {
   "cell_type": "code",
   "execution_count": 2,
   "metadata": {},
   "outputs": [
    {
     "name": "stdout",
     "output_type": "stream",
     "text": [
      "Finish running 100 iterations in 0.17973170000000005s\n"
     ]
    }
   ],
   "source": [
    "def sum_procedure():\n",
    "    a = np.arange(10_000)\n",
    "    \n",
    "    sum_a = 0\n",
    "    for i in a:\n",
    "        sum_a += i\n",
    "        \n",
    "    return sum_a\n",
    "\n",
    "print('Finish running 100 iterations in ' + str(timeit.timeit(stmt = sum_procedure, number = 100)) + 's')"
   ]
  },
  {
   "cell_type": "code",
   "execution_count": 3,
   "metadata": {},
   "outputs": [
    {
     "name": "stdout",
     "output_type": "stream",
     "text": [
      "Finish running 100 iterations in 0.003311299999999573s\n"
     ]
    }
   ],
   "source": [
    "def sum_numpy():\n",
    "    a = np.arange(10_000)\n",
    "        \n",
    "    return np.sum(a)\n",
    "\n",
    "print('Finish running 100 iterations in ' + str(timeit.timeit(stmt = sum_numpy, number = 100)) + 's')"
   ]
  },
  {
   "cell_type": "code",
   "execution_count": 4,
   "metadata": {},
   "outputs": [
    {
     "name": "stdout",
     "output_type": "stream",
     "text": [
      "Finish running 100 iterations in 4.4603885000000005s\n"
     ]
    }
   ],
   "source": [
    "def sum_product_procedure():\n",
    "    a = np.zeros(100_000) + randrange(10)\n",
    "    b = np.zeros(100_000) + randrange(10)\n",
    "    \n",
    "    sum_product = 0\n",
    "    for i in range(len(a)):\n",
    "        sum_product += a[i] * b[i]\n",
    "        \n",
    "    return sum_product\n",
    "\n",
    "print('Finish running 100 iterations in ' + str(timeit.timeit(stmt = sum_product_procedure, number = 100)) + 's')"
   ]
  },
  {
   "cell_type": "code",
   "execution_count": 5,
   "metadata": {},
   "outputs": [
    {
     "name": "stdout",
     "output_type": "stream",
     "text": [
      "Finish running 100 iterations in 0.11063949999999956s\n"
     ]
    }
   ],
   "source": [
    "def sum_product_numpy():\n",
    "    a = np.zeros(100_000) + randrange(10)\n",
    "    b = np.zeros(100_000) + randrange(10)\n",
    "        \n",
    "    return np.dot(a, b)\n",
    "\n",
    "print('Finish running 100 iterations in ' + str(timeit.timeit(stmt = sum_product_numpy, number = 100)) + 's')"
   ]
  },
  {
   "cell_type": "markdown",
   "metadata": {},
   "source": [
    "## Vectorising Code"
   ]
  },
  {
   "cell_type": "code",
   "execution_count": 6,
   "metadata": {},
   "outputs": [
    {
     "name": "stdout",
     "output_type": "stream",
     "text": [
      "Finish running 100 iterations in 0.11487190000000069s\n"
     ]
    }
   ],
   "source": [
    "def procedural_random_walker():\n",
    "    position = 0\n",
    "    walk = [ position ]\n",
    "    \n",
    "    for i in range(1000):\n",
    "        position += 2 * random.randint(0, 1) - 1\n",
    "        walk.append(position)\n",
    "    \n",
    "    return walk\n",
    "\n",
    "print('Finish running 100 iterations in ' + str(timeit.timeit(stmt = procedural_random_walker, number = 100)) + 's')"
   ]
  },
  {
   "cell_type": "code",
   "execution_count": 7,
   "metadata": {},
   "outputs": [
    {
     "name": "stdout",
     "output_type": "stream",
     "text": [
      "Finish running 100 iterations in 0.02212699999999934s\n"
     ]
    }
   ],
   "source": [
    "def faster_random_walk():\n",
    "    from itertools import accumulate\n",
    "    \n",
    "    steps = random.choices([-1,+1], k=1000)\n",
    "    return [0]+list(accumulate(steps))\n",
    "\n",
    "print('Finish running 100 iterations in ' + str(timeit.timeit(stmt = faster_random_walk, number = 100)) + 's')"
   ]
  },
  {
   "cell_type": "markdown",
   "metadata": {},
   "source": [
    "## Vectorising Code & Problem"
   ]
  },
  {
   "cell_type": "markdown",
   "metadata": {},
   "source": [
    "Multiply elements in list A by elements in list B and sum the results."
   ]
  },
  {
   "cell_type": "code",
   "execution_count": 8,
   "metadata": {},
   "outputs": [
    {
     "name": "stdout",
     "output_type": "stream",
     "text": [
      "Finish running 100 iterations in 0.42318139999999893s\n"
     ]
    }
   ],
   "source": [
    "def compute_python():\n",
    "    A = np.arange(100)\n",
    "    B = np.arange(100)\n",
    "    result = 0\n",
    "    for i in range(len(A)):\n",
    "        for j in range(len(B)):\n",
    "            result += A[i] * B[j]\n",
    "    return result\n",
    "\n",
    "print('Finish running 100 iterations in ' + str(timeit.timeit(stmt = compute_python, number = 100)) + 's')"
   ]
  },
  {
   "cell_type": "code",
   "execution_count": 9,
   "metadata": {},
   "outputs": [
    {
     "name": "stdout",
     "output_type": "stream",
     "text": [
      "Finish running 100 iterations in 0.004700099999999097s\n"
     ]
    }
   ],
   "source": [
    "def compute_numpy():\n",
    "    A = np.arange(100)\n",
    "    B = np.arange(100)\n",
    "    \n",
    "    Z = A.reshape(len(A),1) * B.reshape(1,len(B))\n",
    "    return Z.sum()\n",
    "\n",
    "print('Finish running 100 iterations in ' + str(timeit.timeit(stmt = compute_numpy, number = 100)) + 's')"
   ]
  },
  {
   "cell_type": "code",
   "execution_count": 10,
   "metadata": {},
   "outputs": [
    {
     "name": "stdout",
     "output_type": "stream",
     "text": [
      "Finish running 100 iterations in 0.0037634000000004164s\n"
     ]
    }
   ],
   "source": [
    "def compute_numpy_better():\n",
    "    A = np.arange(100)\n",
    "    B = np.arange(100)\n",
    "    return np.sum(A) * np.sum(B)\n",
    "\n",
    "print('Finish running 100 iterations in ' + str(timeit.timeit(stmt = compute_numpy, number = 100)) + 's')"
   ]
  },
  {
   "cell_type": "markdown",
   "metadata": {},
   "source": [
    "## Dangers of Numpy"
   ]
  },
  {
   "cell_type": "code",
   "execution_count": 11,
   "metadata": {},
   "outputs": [
    {
     "name": "stdout",
     "output_type": "stream",
     "text": [
      "[0 1 2 3 4 5 6 7 8]\n",
      "[0 1 2]\n",
      "[0 1 2]\n"
     ]
    }
   ],
   "source": [
    "Z = np.arange(9)\n",
    "print(Z)\n",
    "\n",
    "Z_ = Z[:3]\n",
    "print(Z_)\n",
    "\n",
    "Z_ = Z[[0,1,2]]\n",
    "print(Z_)"
   ]
  },
  {
   "cell_type": "markdown",
   "metadata": {},
   "source": [
    "What is the difference between the two?"
   ]
  },
  {
   "cell_type": "code",
   "execution_count": 12,
   "metadata": {},
   "outputs": [
    {
     "name": "stdout",
     "output_type": "stream",
     "text": [
      "[100 100 100   3   4   5   6   7   8]\n",
      "True\n"
     ]
    }
   ],
   "source": [
    "Z = np.arange(9)\n",
    "Z_ = Z[:3]\n",
    "Z_[...] = 100\n",
    "print(Z)\n",
    "print(Z_.base is Z)"
   ]
  },
  {
   "cell_type": "code",
   "execution_count": 13,
   "metadata": {
    "scrolled": true
   },
   "outputs": [
    {
     "name": "stdout",
     "output_type": "stream",
     "text": [
      "[0 1 2 3 4 5 6 7 8]\n",
      "False\n"
     ]
    }
   ],
   "source": [
    "Z = np.arange(9)\n",
    "Z_ = Z[[0,1,2]]\n",
    "Z_[...] = 100\n",
    "print(Z)\n",
    "print(Z_.base is Z)"
   ]
  },
  {
   "cell_type": "markdown",
   "metadata": {},
   "source": [
    "## Reference"
   ]
  },
  {
   "cell_type": "markdown",
   "metadata": {},
   "source": [
    "https://www.labri.fr/perso/nrougier/from-python-to-numpy/"
   ]
  }
 ],
 "metadata": {
  "kernelspec": {
   "display_name": "Python 3",
   "language": "python",
   "name": "python3"
  },
  "language_info": {
   "codemirror_mode": {
    "name": "ipython",
    "version": 3
   },
   "file_extension": ".py",
   "mimetype": "text/x-python",
   "name": "python",
   "nbconvert_exporter": "python",
   "pygments_lexer": "ipython3",
   "version": "3.8.5"
  }
 },
 "nbformat": 4,
 "nbformat_minor": 4
}
