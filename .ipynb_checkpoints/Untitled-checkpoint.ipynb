{
 "cells": [
  {
   "cell_type": "code",
   "execution_count": 73,
   "metadata": {},
   "outputs": [],
   "source": [
    "import random\n",
    "import timeit\n",
    "import numpy as np\n",
    "from random import randrange"
   ]
  },
  {
   "cell_type": "markdown",
   "metadata": {},
   "source": [
    "## Numpy functions"
   ]
  },
  {
   "cell_type": "code",
   "execution_count": 50,
   "metadata": {},
   "outputs": [
    {
     "name": "stdout",
     "output_type": "stream",
     "text": [
      "Finish running 100 iterations in 0.1876616000008653s\n"
     ]
    }
   ],
   "source": [
    "def sum_procedure():\n",
    "    a = np.arange(10000)\n",
    "    \n",
    "    sum_a = 0\n",
    "    for i in a:\n",
    "        sum_a += i\n",
    "        \n",
    "    return sum_a\n",
    "\n",
    "print('Finish running 100 iterations in ' + str(timeit.timeit(stmt = sum_procedure, number = 100)) + 's')"
   ]
  },
  {
   "cell_type": "code",
   "execution_count": 51,
   "metadata": {},
   "outputs": [
    {
     "name": "stdout",
     "output_type": "stream",
     "text": [
      "Finish running 100 iterations in 0.0030145999990054406s\n"
     ]
    }
   ],
   "source": [
    "def sum_numpy():\n",
    "    a = np.arange(10000)\n",
    "        \n",
    "    return np.sum(a)\n",
    "\n",
    "print('Finish running 100 iterations in ' + str(timeit.timeit(stmt = sum_numpy, number = 100)) + 's')"
   ]
  },
  {
   "cell_type": "code",
   "execution_count": 82,
   "metadata": {},
   "outputs": [
    {
     "name": "stdout",
     "output_type": "stream",
     "text": [
      "Finish running 100 iterations in 4.25959789999979s\n"
     ]
    }
   ],
   "source": [
    "def sum_product_procedure():\n",
    "    a = np.zeros(100000) + randrange(10)\n",
    "    b = np.zeros(100000) + randrange(10)\n",
    "    \n",
    "    sum_product = 0\n",
    "    for i in range(len(a)):\n",
    "        sum_product += a[i] * b[i]\n",
    "        \n",
    "    return sum_product\n",
    "\n",
    "print('Finish running 100 iterations in ' + str(timeit.timeit(stmt = sum_product_procedure, number = 100)) + 's')"
   ]
  },
  {
   "cell_type": "code",
   "execution_count": 87,
   "metadata": {},
   "outputs": [
    {
     "name": "stdout",
     "output_type": "stream",
     "text": [
      "Finish running 100 iterations in 0.09925740000107908s\n"
     ]
    }
   ],
   "source": [
    "def sum_product_numpy():\n",
    "    a = np.zeros(100000) + randrange(10)\n",
    "    b = np.zeros(100000) + randrange(10)\n",
    "        \n",
    "    return np.dot(a, b)\n",
    "\n",
    "print('Finish running 100 iterations in ' + str(timeit.timeit(stmt = sum_product_numpy, number = 100)) + 's')"
   ]
  },
  {
   "cell_type": "markdown",
   "metadata": {},
   "source": [
    "## Vectorising Code"
   ]
  },
  {
   "cell_type": "code",
   "execution_count": 78,
   "metadata": {},
   "outputs": [
    {
     "name": "stdout",
     "output_type": "stream",
     "text": [
      "Finish running 100 iterations in 0.10042580000299495s\n"
     ]
    }
   ],
   "source": [
    "def procedural_random_walker():\n",
    "    position = 0\n",
    "    walk = [ position ]\n",
    "    \n",
    "    for i in range(1000):\n",
    "        position += 2 * random.randint(0, 1) - 1\n",
    "        walk.append(position)\n",
    "    \n",
    "    return walk\n",
    "\n",
    "print('Finish running 100 iterations in ' + str(timeit.timeit(stmt = procedural_random_walker, number = 100)) + 's')"
   ]
  },
  {
   "cell_type": "code",
   "execution_count": 29,
   "metadata": {},
   "outputs": [
    {
     "name": "stdout",
     "output_type": "stream",
     "text": [
      "Finish running 100 iterations in 0.020249299999704817s\n"
     ]
    }
   ],
   "source": [
    "def faster_random_walk():\n",
    "    from itertools import accumulate\n",
    "    \n",
    "    steps = random.choices([-1,+1], k=1000)\n",
    "    return [0]+list(accumulate(steps))\n",
    "\n",
    "print('Finish running 100 iterations in ' + str(timeit.timeit(stmt = faster_random_walk, number = 100)) + 's')"
   ]
  },
  {
   "cell_type": "markdown",
   "metadata": {},
   "source": [
    "## Vectorising Code & Problem"
   ]
  },
  {
   "cell_type": "markdown",
   "metadata": {},
   "source": [
    "Multiply elements in list A by elements in list B and sum the results."
   ]
  },
  {
   "cell_type": "code",
   "execution_count": 31,
   "metadata": {},
   "outputs": [
    {
     "name": "stdout",
     "output_type": "stream",
     "text": [
      "Finish running 100 iterations in 0.4059118999975908s\n"
     ]
    }
   ],
   "source": [
    "def compute_python():\n",
    "    A = np.arange(100)\n",
    "    B = np.arange(100)\n",
    "    result = 0\n",
    "    for i in range(len(A)):\n",
    "        for j in range(len(B)):\n",
    "            result += A[i] * B[j]\n",
    "    return result\n",
    "\n",
    "print('Finish running 100 iterations in ' + str(timeit.timeit(stmt = compute_python, number = 100)) + 's')"
   ]
  },
  {
   "cell_type": "code",
   "execution_count": 33,
   "metadata": {},
   "outputs": [
    {
     "name": "stdout",
     "output_type": "stream",
     "text": [
      "Finish running 100 iterations in 0.010987899997417117s\n"
     ]
    }
   ],
   "source": [
    "def compute_numpy():\n",
    "    A = np.arange(100)\n",
    "    B = np.arange(100)\n",
    "    \n",
    "    Z = A.reshape(len(A),1) * B.reshape(1,len(B))\n",
    "    return Z.sum()\n",
    "\n",
    "print('Finish running 100 iterations in ' + str(timeit.timeit(stmt = compute_numpy, number = 100)) + 's')"
   ]
  },
  {
   "cell_type": "code",
   "execution_count": 36,
   "metadata": {},
   "outputs": [
    {
     "name": "stdout",
     "output_type": "stream",
     "text": [
      "Finish running 100 iterations in 0.0037208000030659605s\n"
     ]
    }
   ],
   "source": [
    "def compute_numpy_better():\n",
    "    A = np.arange(100)\n",
    "    B = np.arange(100)\n",
    "    return np.sum(A) * np.sum(B)\n",
    "\n",
    "print('Finish running 100 iterations in ' + str(timeit.timeit(stmt = compute_numpy, number = 100)) + 's')"
   ]
  },
  {
   "cell_type": "markdown",
   "metadata": {},
   "source": [
    "## View vs Copy"
   ]
  },
  {
   "cell_type": "code",
   "execution_count": 42,
   "metadata": {},
   "outputs": [
    {
     "name": "stdout",
     "output_type": "stream",
     "text": [
      "[1. 1. 1. 0. 0. 0. 0. 0. 0.]\n",
      "True\n"
     ]
    }
   ],
   "source": [
    "Z = np.zeros(9)\n",
    "Z_ = Z[:3]\n",
    "Z_[...] = 1\n",
    "print(Z)\n",
    "print(Z_.base is Z)"
   ]
  },
  {
   "cell_type": "code",
   "execution_count": 43,
   "metadata": {},
   "outputs": [
    {
     "name": "stdout",
     "output_type": "stream",
     "text": [
      "[0. 0. 0. 0. 0. 0. 0. 0. 0.]\n",
      "False\n"
     ]
    }
   ],
   "source": [
    "Z = np.zeros(9)\n",
    "Z_ = Z[[0,1,2]]\n",
    "Z_[...] = 1\n",
    "print(Z)\n",
    "print(Z_.base is Z)"
   ]
  },
  {
   "cell_type": "code",
   "execution_count": null,
   "metadata": {},
   "outputs": [],
   "source": []
  }
 ],
 "metadata": {
  "kernelspec": {
   "display_name": "Python 3",
   "language": "python",
   "name": "python3"
  },
  "language_info": {
   "codemirror_mode": {
    "name": "ipython",
    "version": 3
   },
   "file_extension": ".py",
   "mimetype": "text/x-python",
   "name": "python",
   "nbconvert_exporter": "python",
   "pygments_lexer": "ipython3",
   "version": "3.8.5"
  }
 },
 "nbformat": 4,
 "nbformat_minor": 4
}
